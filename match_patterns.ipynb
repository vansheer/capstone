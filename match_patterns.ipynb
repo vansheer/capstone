{
 "cells": [
  {
   "cell_type": "code",
   "execution_count": 1,
   "id": "efficient-resident",
   "metadata": {},
   "outputs": [],
   "source": [
    "import spacy\n",
    "import pandas as pd\n",
    "\n",
    "from spacy import displacy\n",
    "from spacy.matcher import Matcher\n",
    "from spacy.tokens import Span"
   ]
  },
  {
   "cell_type": "code",
   "execution_count": 2,
   "id": "occupational-nitrogen",
   "metadata": {},
   "outputs": [],
   "source": [
    "#read in the labeled dataset\n",
    "df = pd.read_csv('data/all_scripts.csv')"
   ]
  },
  {
   "cell_type": "code",
   "execution_count": 5,
   "id": "viral-setting",
   "metadata": {},
   "outputs": [],
   "source": [
    "#slice examples with words to learn only (label=1)\n",
    "df1 = df.loc[df['label']==1]"
   ]
  },
  {
   "cell_type": "code",
   "execution_count": 6,
   "id": "unnecessary-favorite",
   "metadata": {},
   "outputs": [
    {
     "name": "stdout",
     "output_type": "stream",
     "text": [
      "<class 'pandas.core.frame.DataFrame'>\n",
      "Int64Index: 210 entries, 5 to 1902\n",
      "Data columns (total 2 columns):\n",
      " #   Column  Non-Null Count  Dtype \n",
      "---  ------  --------------  ----- \n",
      " 0   label   210 non-null    int64 \n",
      " 1   script  210 non-null    object\n",
      "dtypes: int64(1), object(1)\n",
      "memory usage: 4.9+ KB\n"
     ]
    }
   ],
   "source": [
    "df1.info()"
   ]
  },
  {
   "cell_type": "markdown",
   "id": "sonic-industry",
   "metadata": {},
   "source": [
    "## Call SpaCy"
   ]
  },
  {
   "cell_type": "code",
   "execution_count": 8,
   "id": "legislative-concentration",
   "metadata": {},
   "outputs": [],
   "source": [
    "#instantiate an empty nlp with no pipeline components\n",
    "nlp = spacy.blank('en')"
   ]
  },
  {
   "cell_type": "code",
   "execution_count": 12,
   "id": "stuck-extreme",
   "metadata": {},
   "outputs": [
    {
     "data": {
      "text/plain": [
       "[]"
      ]
     },
     "execution_count": 12,
     "metadata": {},
     "output_type": "execute_result"
    }
   ],
   "source": [
    "#check if it's indeed empty\n",
    "#and it is\n",
    "nlp.pipeline"
   ]
  },
  {
   "cell_type": "code",
   "execution_count": 9,
   "id": "latest-designation",
   "metadata": {},
   "outputs": [
    {
     "name": "stderr",
     "output_type": "stream",
     "text": [
      "/Library/Frameworks/Python.framework/Versions/3.8/lib/python3.8/site-packages/spacy/displacy/__init__.py:189: UserWarning: [W006] No entities to visualize found in Doc object. If this is surprising to you, make sure the Doc was processed using a model that supports named entity recognition, and check the `doc.ents` property manually if necessary.\n",
      "  warnings.warn(Warnings.W006)\n"
     ]
    },
    {
     "data": {
      "text/html": [
       "<span class=\"tex2jax_ignore\"><div class=\"entities\" style=\"line-height: 2.5; direction: ltr\">When I lost the first set I thought it was the worst thing to do</div>\n",
       "\n",
       "<div class=\"entities\" style=\"line-height: 2.5; direction: ltr\">Yeah, beating Kerber as well</div>\n",
       "\n",
       "<div class=\"entities\" style=\"line-height: 2.5; direction: ltr\">You had a really good win over Vesnina a few months ago</div>\n",
       "\n",
       "<div class=\"entities\" style=\"line-height: 2.5; direction: ltr\"> I think I should be inside a little kid who just wants to play, which is so happy to be able to win a match, and not thinking about all the frustration parts of this career or of my game, which is working or not working, why my serve is not so consistent or whatever</div></span>"
      ],
      "text/plain": [
       "<IPython.core.display.HTML object>"
      ]
     },
     "metadata": {},
     "output_type": "display_data"
    }
   ],
   "source": [
    "#and naturally there is no entity to render\n",
    "displacy.render(df1['script'][6:10].apply(nlp), style='ent')"
   ]
  },
  {
   "cell_type": "markdown",
   "id": "christian-lender",
   "metadata": {},
   "source": [
    "## Create Match Patterns"
   ]
  },
  {
   "cell_type": "code",
   "execution_count": 14,
   "id": "artificial-master",
   "metadata": {},
   "outputs": [],
   "source": [
    "#type 1. tournament titles\n",
    "fedcup_pattern = [{'IS_TITLE': True},{'LOWER': 'cup'}]\n",
    "grand_slam_pattern = [{'LOWER': 'grand'}, {'LOWER': {'IN': ['slam', 'slams']}}]\n",
    "tournament_pattern = [{'IS_ALPHA': True, 'POS': 'PROPN'}, {'LOWER': 'open'}]\n",
    "\n",
    "#type 2. player names\n",
    "first_name_pattern = [{'POS': 'PROPN', 'IS_TITLE': True}]\n",
    "full_name_pattern = [{'IS_TITLE': True}, {'IS_TITLE': True}]\n",
    "\n",
    "#type 3. tennis terms\n",
    "double_fault_pattern = [{'LOWER': 'double'}, {'LEMMA': 'fault'}]\n",
    "rally_pattern = [{'LEMMA': 'rally'}]\n",
    "set_pattern = [{'POS': 'ADJ'}, {'LOWER': 'set'}]\n",
    "#dropshot_pattern = [{'LOWER': 'dropshot'}]\n",
    "serve_pattern = [{'LEMMA': 'serve'}]\n",
    "timeout_pattern = [{'LOWER': 'medical'}, {'LOWER': 'timeout'}]\n",
    "break_pattern = [{'LEMMA': 'break'}]\n",
    "round_robin_pattern = [{'LOWER': 'round'}, {'LEMMA': 'robin'}]\n",
    "ace_pattern = [{'LEMMA': {'IN': ['ace', 'volley', 'dropshot']}}]\n",
    "winner_pattern = [{'LEMMA': 'winner'}]\n",
    "break_point_pattern = [{'LOWER': 'break'}, {'LEMMA': 'point'}]\n",
    "three_setter_pattern = [{'POS': 'NUM'}, {'IS_PUNCT': True}, {'LEMMA': 'set'}]\n",
    "\n",
    "#type 4. contextual words\n",
    "agressive_pattern = [{'LEMMA': 'aggressive'}]\n",
    "\n",
    "#trial\n",
    "stroke_pattern = [{'TEXT': {\"REGEX\": \"\\w*hand?\"}}]"
   ]
  },
  {
   "cell_type": "code",
   "execution_count": 16,
   "id": "removed-booth",
   "metadata": {},
   "outputs": [],
   "source": [
    "#instantiate a matcher\n",
    "matcher = Matcher(nlp.vocab, validate=True)"
   ]
  },
  {
   "cell_type": "code",
   "execution_count": 17,
   "id": "editorial-aspect",
   "metadata": {},
   "outputs": [],
   "source": [
    "#add the matche patterns\n",
    "matcher.add('网球比赛名称', [fedcup_pattern, grand_slam_pattern, tournament_pattern])\n",
    "# matcher.add('打得很凶', [agressive_pattern])\n",
    "# matcher.add('球员名字', [proper_name_pattern])\n",
    "# matcher.add('回合', [rally_pattern])\n",
    "# matcher.add('双误', [doublefault_pattern])"
   ]
  },
  {
   "cell_type": "code",
   "execution_count": 30,
   "id": "olympic-zoning",
   "metadata": {
    "tags": []
   },
   "outputs": [
    {
     "data": {
      "text/html": [
       "<span class=\"tex2jax_ignore\"><div class=\"entities\" style=\"line-height: 2.5; direction: ltr\">\n",
       "<mark class=\"entity\" style=\"background: #ddd; padding: 0.45em 0.6em; margin: 0 0.25em; line-height: 1; border-radius: 0.35em;\">\n",
       "    Petra Kvitova\n",
       "    <span style=\"font-size: 0.8em; font-weight: bold; line-height: 1; border-radius: 0.35em; vertical-align: middle; margin-left: 0.5rem\">球员名字</span>\n",
       "</mark>\n",
       "</div></span>"
      ],
      "text/plain": [
       "<IPython.core.display.HTML object>"
      ]
     },
     "metadata": {},
     "output_type": "display_data"
    },
    {
     "data": {
      "text/html": [
       "<span class=\"tex2jax_ignore\"><div class=\"entities\" style=\"line-height: 2.5; direction: ltr\">\n",
       "<mark class=\"entity\" style=\"background: #ddd; padding: 0.45em 0.6em; margin: 0 0.25em; line-height: 1; border-radius: 0.35em;\">\n",
       "    Press Conference\n",
       "    <span style=\"font-size: 0.8em; font-weight: bold; line-height: 1; border-radius: 0.35em; vertical-align: middle; margin-left: 0.5rem\">球员名字</span>\n",
       "</mark>\n",
       "</div></span>"
      ],
      "text/plain": [
       "<IPython.core.display.HTML object>"
      ]
     },
     "metadata": {},
     "output_type": "display_data"
    },
    {
     "data": {
      "text/html": [
       "<span class=\"tex2jax_ignore\"><div class=\"entities\" style=\"line-height: 2.5; direction: ltr\">P. KVITOVA/\n",
       "<mark class=\"entity\" style=\"background: #ddd; padding: 0.45em 0.6em; margin: 0 0.25em; line-height: 1; border-radius: 0.35em;\">\n",
       "    E. Svitolina\n",
       "    <span style=\"font-size: 0.8em; font-weight: bold; line-height: 1; border-radius: 0.35em; vertical-align: middle; margin-left: 0.5rem\">球员名字</span>\n",
       "</mark>\n",
       "</div></span>"
      ],
      "text/plain": [
       "<IPython.core.display.HTML object>"
      ]
     },
     "metadata": {},
     "output_type": "display_data"
    },
    {
     "data": {
      "text/html": [
       "<span class=\"tex2jax_ignore\"><div class=\"entities\" style=\"line-height: 2.5; direction: ltr\">So I knew that it's still in my hand. I just felt that she played a little bit aggressively than me in the beginning of the \n",
       "<mark class=\"entity\" style=\"background: #ddd; padding: 0.45em 0.6em; margin: 0 0.25em; line-height: 1; border-radius: 0.35em;\">\n",
       "    match\n",
       "    <span style=\"font-size: 0.8em; font-weight: bold; line-height: 1; border-radius: 0.35em; vertical-align: middle; margin-left: 0.5rem\">比赛</span>\n",
       "</mark>\n",
       ". So I was a little bit trying to get the rhythm to play a little bit more \n",
       "<mark class=\"entity\" style=\"background: #ddd; padding: 0.45em 0.6em; margin: 0 0.25em; line-height: 1; border-radius: 0.35em;\">\n",
       "    aggressive\n",
       "    <span style=\"font-size: 0.8em; font-weight: bold; line-height: 1; border-radius: 0.35em; vertical-align: middle; margin-left: 0.5rem\">打得很凶</span>\n",
       "</mark>\n",
       ", maybe a little bit longer \n",
       "<mark class=\"entity\" style=\"background: #ddd; padding: 0.45em 0.6em; margin: 0 0.25em; line-height: 1; border-radius: 0.35em;\">\n",
       "    rallies\n",
       "    <span style=\"font-size: 0.8em; font-weight: bold; line-height: 1; border-radius: 0.35em; vertical-align: middle; margin-left: 0.5rem\">回合</span>\n",
       "</mark>\n",
       ", that I can go to the game and be able to play.</div></span>"
      ],
      "text/plain": [
       "<IPython.core.display.HTML object>"
      ]
     },
     "metadata": {},
     "output_type": "display_data"
    },
    {
     "data": {
      "text/html": [
       "<span class=\"tex2jax_ignore\"><div class=\"entities\" style=\"line-height: 2.5; direction: ltr\">That I think I did. I started to serve a little bit better as well, even I had more \n",
       "<mark class=\"entity\" style=\"background: #ddd; padding: 0.45em 0.6em; margin: 0 0.25em; line-height: 1; border-radius: 0.35em;\">\n",
       "    double faults\n",
       "    <span style=\"font-size: 0.8em; font-weight: bold; line-height: 1; border-radius: 0.35em; vertical-align: middle; margin-left: 0.5rem\">双误</span>\n",
       "</mark>\n",
       " that I wish. But I still think that I find a way to kind of beat her. I played her in Wuhan and I was break down there as well from the beginning of the \n",
       "<mark class=\"entity\" style=\"background: #ddd; padding: 0.45em 0.6em; margin: 0 0.25em; line-height: 1; border-radius: 0.35em;\">\n",
       "    match\n",
       "    <span style=\"font-size: 0.8em; font-weight: bold; line-height: 1; border-radius: 0.35em; vertical-align: middle; margin-left: 0.5rem\">比赛</span>\n",
       "</mark>\n",
       ".</div></span>"
      ],
      "text/plain": [
       "<IPython.core.display.HTML object>"
      ]
     },
     "metadata": {},
     "output_type": "display_data"
    },
    {
     "data": {
      "text/html": [
       "<span class=\"tex2jax_ignore\"><div class=\"entities\" style=\"line-height: 2.5; direction: ltr\">I just probably knew that it's still not the end, so I was just trying to play point by point. That was kind of the style of the \n",
       "<mark class=\"entity\" style=\"background: #ddd; padding: 0.45em 0.6em; margin: 0 0.25em; line-height: 1; border-radius: 0.35em;\">\n",
       "    match\n",
       "    <span style=\"font-size: 0.8em; font-weight: bold; line-height: 1; border-radius: 0.35em; vertical-align: middle; margin-left: 0.5rem\">比赛</span>\n",
       "</mark>\n",
       ".</div></span>"
      ],
      "text/plain": [
       "<IPython.core.display.HTML object>"
      ]
     },
     "metadata": {},
     "output_type": "display_data"
    },
    {
     "data": {
      "text/html": [
       "<span class=\"tex2jax_ignore\"><div class=\"entities\" style=\"line-height: 2.5; direction: ltr\">I think that was kind of the point when I started to play better. I played good in \n",
       "<mark class=\"entity\" style=\"background: #ddd; padding: 0.45em 0.6em; margin: 0 0.25em; line-height: 1; border-radius: 0.35em;\">\n",
       "    New Haven\n",
       "    <span style=\"font-size: 0.8em; font-weight: bold; line-height: 1; border-radius: 0.35em; vertical-align: middle; margin-left: 0.5rem\">球员名字</span>\n",
       "</mark>\n",
       " and US Open, and then I came to Asia and I really enjoy myself on the court as well.</div></span>"
      ],
      "text/plain": [
       "<IPython.core.display.HTML object>"
      ]
     },
     "metadata": {},
     "output_type": "display_data"
    },
    {
     "data": {
      "text/html": [
       "<span class=\"tex2jax_ignore\"><div class=\"entities\" style=\"line-height: 2.5; direction: ltr\">Q.You said your congratulations to \n",
       "<mark class=\"entity\" style=\"background: #ddd; padding: 0.45em 0.6em; margin: 0 0.25em; line-height: 1; border-radius: 0.35em;\">\n",
       "    Andy Murray\n",
       "    <span style=\"font-size: 0.8em; font-weight: bold; line-height: 1; border-radius: 0.35em; vertical-align: middle; margin-left: 0.5rem\">球员名字</span>\n",
       "</mark>\n",
       " on your Twitter from world No. 2 to No. 1. It cost him seven years. You were a world No. 2 players yourself five years ago. Is achieving world No. 1 still a big goal for you or you're pretty relaxed about it?</div></span>"
      ],
      "text/plain": [
       "<IPython.core.display.HTML object>"
      ]
     },
     "metadata": {},
     "output_type": "display_data"
    },
    {
     "ename": "ValueError",
     "evalue": "[E1010] Unable to set entity information for token 39 which is included in more than one span in entities, blocked, missing or outside.",
     "output_type": "error",
     "traceback": [
      "\u001b[0;31m---------------------------------------------------------------------------\u001b[0m",
      "\u001b[0;31mValueError\u001b[0m                                Traceback (most recent call last)",
      "\u001b[0;32m<ipython-input-30-912c34361185>\u001b[0m in \u001b[0;36m<module>\u001b[0;34m\u001b[0m\n\u001b[1;32m      5\u001b[0m     \u001b[0;32mif\u001b[0m \u001b[0mmatcher\u001b[0m\u001b[0;34m(\u001b[0m\u001b[0mdoc\u001b[0m\u001b[0;34m)\u001b[0m\u001b[0;34m:\u001b[0m\u001b[0;34m\u001b[0m\u001b[0;34m\u001b[0m\u001b[0m\n\u001b[1;32m      6\u001b[0m         \u001b[0mspan\u001b[0m \u001b[0;34m=\u001b[0m \u001b[0;34m[\u001b[0m\u001b[0mSpan\u001b[0m\u001b[0;34m(\u001b[0m\u001b[0mdoc\u001b[0m\u001b[0;34m,\u001b[0m \u001b[0mstart\u001b[0m\u001b[0;34m,\u001b[0m \u001b[0mend\u001b[0m\u001b[0;34m,\u001b[0m \u001b[0mlabel\u001b[0m\u001b[0;34m=\u001b[0m\u001b[0mmatch_id\u001b[0m\u001b[0;34m)\u001b[0m \u001b[0;32mfor\u001b[0m \u001b[0mmatch_id\u001b[0m\u001b[0;34m,\u001b[0m \u001b[0mstart\u001b[0m\u001b[0;34m,\u001b[0m \u001b[0mend\u001b[0m \u001b[0;32min\u001b[0m \u001b[0mmatcher\u001b[0m\u001b[0;34m(\u001b[0m\u001b[0mdoc\u001b[0m\u001b[0;34m)\u001b[0m\u001b[0;34m]\u001b[0m\u001b[0;34m\u001b[0m\u001b[0;34m\u001b[0m\u001b[0m\n\u001b[0;32m----> 7\u001b[0;31m         \u001b[0mdoc\u001b[0m\u001b[0;34m.\u001b[0m\u001b[0ments\u001b[0m \u001b[0;34m=\u001b[0m \u001b[0mspan\u001b[0m\u001b[0;34m\u001b[0m\u001b[0;34m\u001b[0m\u001b[0m\n\u001b[0m\u001b[1;32m      8\u001b[0m     \u001b[0;31m#         doc.ents = list(doc.ents) + [span]\u001b[0m\u001b[0;34m\u001b[0m\u001b[0;34m\u001b[0m\u001b[0;34m\u001b[0m\u001b[0m\n\u001b[1;32m      9\u001b[0m         \u001b[0;31m#print([(ent.text, ent.label_) for ent in doc.ents])\u001b[0m\u001b[0;34m\u001b[0m\u001b[0;34m\u001b[0m\u001b[0;34m\u001b[0m\u001b[0m\n",
      "\u001b[0;32m/Library/Frameworks/Python.framework/Versions/3.8/lib/python3.8/site-packages/spacy/tokens/doc.pyx\u001b[0m in \u001b[0;36mspacy.tokens.doc.Doc.ents.__set__\u001b[0;34m()\u001b[0m\n",
      "\u001b[0;32m/Library/Frameworks/Python.framework/Versions/3.8/lib/python3.8/site-packages/spacy/tokens/doc.pyx\u001b[0m in \u001b[0;36mspacy.tokens.doc.Doc.set_ents\u001b[0;34m()\u001b[0m\n",
      "\u001b[0;31mValueError\u001b[0m: [E1010] Unable to set entity information for token 39 which is included in more than one span in entities, blocked, missing or outside."
     ]
    }
   ],
   "source": [
    "#有match的\n",
    "#code credit: https://stackoverflow.com/questions/51037383/how-do-i-add-matches-as-entities-and-visualize-it-in-spacy\n",
    "for sent in sent_list:\n",
    "    doc = nlp(sent)\n",
    "    if matcher(doc):\n",
    "        span = [Span(doc, start, end, label=match_id) for match_id, start, end in matcher(doc)]\n",
    "        doc.ents = span\n",
    "    #         doc.ents = list(doc.ents) + [span]\n",
    "        #print([(ent.text, ent.label_) for ent in doc.ents])\n",
    "        displacy.render(doc, style='ent')"
   ]
  },
  {
   "cell_type": "code",
   "execution_count": null,
   "id": "convenient-parish",
   "metadata": {},
   "outputs": [],
   "source": []
  },
  {
   "cell_type": "code",
   "execution_count": null,
   "id": "metric-server",
   "metadata": {},
   "outputs": [],
   "source": []
  },
  {
   "cell_type": "code",
   "execution_count": null,
   "id": "finite-determination",
   "metadata": {},
   "outputs": [],
   "source": []
  },
  {
   "cell_type": "code",
   "execution_count": 13,
   "id": "indian-rebate",
   "metadata": {},
   "outputs": [],
   "source": [
    "#实验二\n",
    "test = \"\"\"\n",
    "So I was a little bit trying to get the rhythm to play a little bit more aggressive, \n",
    "maybe a little bit longer rallies, that I can go to the game and be able to play.\n",
    "\"\"\"\n",
    "test_doc = nlp(test)\n",
    "matches = matcher(test_doc)"
   ]
  },
  {
   "cell_type": "code",
   "execution_count": 27,
   "id": "contemporary-spotlight",
   "metadata": {},
   "outputs": [],
   "source": [
    "span = [Span(test_doc, start, end, label=match_id) for match_id, start, end in matches]"
   ]
  },
  {
   "cell_type": "code",
   "execution_count": 28,
   "id": "oriental-headset",
   "metadata": {},
   "outputs": [],
   "source": [
    "test_doc.ents = span"
   ]
  },
  {
   "cell_type": "code",
   "execution_count": 29,
   "id": "searching-albuquerque",
   "metadata": {},
   "outputs": [
    {
     "data": {
      "text/html": [
       "<span class=\"tex2jax_ignore\"><div class=\"entities\" style=\"line-height: 2.5; direction: ltr\"></br>So I was a little bit trying to get the rhythm to play a little bit more \n",
       "<mark class=\"entity\" style=\"background: #ddd; padding: 0.45em 0.6em; margin: 0 0.25em; line-height: 1; border-radius: 0.35em;\">\n",
       "    aggressive\n",
       "    <span style=\"font-size: 0.8em; font-weight: bold; line-height: 1; border-radius: 0.35em; vertical-align: middle; margin-left: 0.5rem\">打得很凶</span>\n",
       "</mark>\n",
       ", </br>maybe a little bit longer \n",
       "<mark class=\"entity\" style=\"background: #ddd; padding: 0.45em 0.6em; margin: 0 0.25em; line-height: 1; border-radius: 0.35em;\">\n",
       "    rallies\n",
       "    <span style=\"font-size: 0.8em; font-weight: bold; line-height: 1; border-radius: 0.35em; vertical-align: middle; margin-left: 0.5rem\">回合</span>\n",
       "</mark>\n",
       ", that I can go to the game and be able to play.</br></div></span>"
      ],
      "text/plain": [
       "<IPython.core.display.HTML object>"
      ]
     },
     "metadata": {},
     "output_type": "display_data"
    }
   ],
   "source": [
    "displacy.render(test_doc, style='ent')"
   ]
  },
  {
   "cell_type": "code",
   "execution_count": null,
   "id": "potential-coordination",
   "metadata": {},
   "outputs": [],
   "source": []
  },
  {
   "cell_type": "code",
   "execution_count": null,
   "id": "athletic-strike",
   "metadata": {},
   "outputs": [],
   "source": []
  },
  {
   "cell_type": "code",
   "execution_count": null,
   "id": "initial-driving",
   "metadata": {},
   "outputs": [],
   "source": []
  },
  {
   "cell_type": "code",
   "execution_count": null,
   "id": "complimentary-saturday",
   "metadata": {},
   "outputs": [],
   "source": []
  },
  {
   "cell_type": "code",
   "execution_count": null,
   "id": "statewide-classroom",
   "metadata": {},
   "outputs": [],
   "source": []
  },
  {
   "cell_type": "code",
   "execution_count": null,
   "id": "confidential-tutorial",
   "metadata": {},
   "outputs": [],
   "source": []
  },
  {
   "cell_type": "code",
   "execution_count": null,
   "id": "sophisticated-roots",
   "metadata": {},
   "outputs": [],
   "source": []
  },
  {
   "cell_type": "code",
   "execution_count": null,
   "id": "adolescent-regulation",
   "metadata": {},
   "outputs": [],
   "source": []
  },
  {
   "cell_type": "code",
   "execution_count": null,
   "id": "front-forwarding",
   "metadata": {},
   "outputs": [],
   "source": []
  },
  {
   "cell_type": "code",
   "execution_count": null,
   "id": "informal-miniature",
   "metadata": {},
   "outputs": [],
   "source": []
  },
  {
   "cell_type": "code",
   "execution_count": null,
   "id": "seventh-lingerie",
   "metadata": {},
   "outputs": [],
   "source": []
  },
  {
   "cell_type": "code",
   "execution_count": null,
   "id": "dated-fairy",
   "metadata": {},
   "outputs": [],
   "source": []
  },
  {
   "cell_type": "code",
   "execution_count": null,
   "id": "selective-vampire",
   "metadata": {},
   "outputs": [],
   "source": []
  },
  {
   "cell_type": "code",
   "execution_count": null,
   "id": "optional-sympathy",
   "metadata": {},
   "outputs": [],
   "source": []
  },
  {
   "cell_type": "code",
   "execution_count": null,
   "id": "liked-brighton",
   "metadata": {},
   "outputs": [],
   "source": []
  },
  {
   "cell_type": "code",
   "execution_count": null,
   "id": "radio-lottery",
   "metadata": {},
   "outputs": [],
   "source": []
  },
  {
   "cell_type": "code",
   "execution_count": null,
   "id": "broadband-soundtrack",
   "metadata": {},
   "outputs": [],
   "source": [
    "from spacy.tokens.span_group import SpanGroup"
   ]
  },
  {
   "cell_type": "code",
   "execution_count": null,
   "id": "directed-korean",
   "metadata": {},
   "outputs": [],
   "source": [
    "sg = SpanGroup(all_doc)"
   ]
  },
  {
   "cell_type": "code",
   "execution_count": null,
   "id": "chinese-translator",
   "metadata": {},
   "outputs": [],
   "source": [
    "type(sg)"
   ]
  },
  {
   "cell_type": "code",
   "execution_count": null,
   "id": "activated-stanley",
   "metadata": {},
   "outputs": [],
   "source": [
    "sg."
   ]
  },
  {
   "cell_type": "code",
   "execution_count": null,
   "id": "exact-cycling",
   "metadata": {
    "tags": []
   },
   "outputs": [],
   "source": [
    "for sent in sent_list:\n",
    "    doc = nlp(sent)\n",
    "    if matcher(doc):\n",
    "        for match_id, start, end in matcher(doc):\n",
    "            span = Span(doc, start, end, label=match_id)\n",
    "            doc.ents = [span]\n",
    "        displacy.render(doc, style='ent')"
   ]
  },
  {
   "cell_type": "code",
   "execution_count": null,
   "id": "several-paragraph",
   "metadata": {
    "jupyter": {
     "source_hidden": true
    },
    "tags": []
   },
   "outputs": [],
   "source": [
    "all_para = ' '.join(read_docx('scripts/script02.docx'))"
   ]
  },
  {
   "cell_type": "code",
   "execution_count": null,
   "id": "previous-secretariat",
   "metadata": {
    "tags": []
   },
   "outputs": [],
   "source": [
    "all_doc = nlp(all_para)"
   ]
  },
  {
   "cell_type": "code",
   "execution_count": null,
   "id": "organic-hybrid",
   "metadata": {
    "tags": []
   },
   "outputs": [],
   "source": [
    "for match in matcher(all_doc):\n",
    "    span = Span(doc, start, end, label=match_id)\n",
    "    sg.append(span)\n",
    "#     for match_id, start, end in match:\n",
    "#         span = Span(doc, start, end, label=match_id)\n",
    "#         print(span)\n",
    "\n",
    "# all_match = matcher(all_doc)"
   ]
  },
  {
   "cell_type": "code",
   "execution_count": null,
   "id": "alleged-method",
   "metadata": {},
   "outputs": [],
   "source": []
  },
  {
   "cell_type": "code",
   "execution_count": null,
   "id": "instant-reply",
   "metadata": {
    "tags": []
   },
   "outputs": [],
   "source": [
    "#没有match\n",
    "for sent in sent_list:\n",
    "    if not matcher(nlp(sent)):\n",
    "        print(sent)"
   ]
  },
  {
   "cell_type": "code",
   "execution_count": null,
   "id": "considered-infection",
   "metadata": {},
   "outputs": [],
   "source": []
  }
 ],
 "metadata": {
  "kernelspec": {
   "display_name": "Python 3",
   "language": "python",
   "name": "python3"
  },
  "language_info": {
   "codemirror_mode": {
    "name": "ipython",
    "version": 3
   },
   "file_extension": ".py",
   "mimetype": "text/x-python",
   "name": "python",
   "nbconvert_exporter": "python",
   "pygments_lexer": "ipython3",
   "version": "3.8.0"
  }
 },
 "nbformat": 4,
 "nbformat_minor": 5
}
