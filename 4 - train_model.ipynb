{
 "cells": [
  {
   "cell_type": "code",
   "execution_count": 23,
   "id": "critical-search",
   "metadata": {},
   "outputs": [],
   "source": [
    "import warnings\n",
    "warnings.filterwarnings('ignore')"
   ]
  },
  {
   "cell_type": "code",
   "execution_count": 21,
   "id": "prerequisite-grass",
   "metadata": {},
   "outputs": [],
   "source": [
    "import spacy\n",
    "import pickle\n",
    "import random\n",
    "import datetime as dt\n",
    "import matplotlib.pyplot as plt\n",
    "\n",
    "from spacy import displacy"
   ]
  },
  {
   "cell_type": "markdown",
   "id": "processed-above",
   "metadata": {},
   "source": [
    "## Load training data"
   ]
  },
  {
   "cell_type": "code",
   "execution_count": 3,
   "id": "written-spank",
   "metadata": {},
   "outputs": [],
   "source": [
    "with open('data/train_data', 'rb') as file:\n",
    "    train = pickle.load(file)"
   ]
  },
  {
   "cell_type": "markdown",
   "id": "narrow-pharmacology",
   "metadata": {},
   "source": [
    "## Train without tuning"
   ]
  },
  {
   "cell_type": "code",
   "execution_count": 17,
   "id": "connected-pursuit",
   "metadata": {
    "id": "53A28QQ-_Q44"
   },
   "outputs": [],
   "source": [
    "def create_blank_nlp(train_data):\n",
    "    nlp = spacy.blank('en')\n",
    "    ner = nlp.create_pipe('ner')\n",
    "    nlp.add_pipe(ner, last=True)\n",
    "    ner = nlp.get_pipe('ner')\n",
    "    for _, annotations in train_data:\n",
    "        for ent in annotations.get('entities'):\n",
    "            ner.add_label(ent[2])\n",
    "    return nlp"
   ]
  },
  {
   "cell_type": "code",
   "execution_count": 18,
   "id": "weighted-train",
   "metadata": {
    "id": "3SSsaOnI_ujD"
   },
   "outputs": [],
   "source": [
    "import random\n",
    "import datetime as dt"
   ]
  },
  {
   "cell_type": "code",
   "execution_count": 19,
   "id": "solved-bedroom",
   "metadata": {
    "id": "yp09zNY5_x0C"
   },
   "outputs": [],
   "source": [
    "nlp1 = create_blank_nlp(train_data=train)\n",
    "optimizer = nlp1.begin_training()"
   ]
  },
  {
   "cell_type": "code",
   "execution_count": 23,
   "id": "piano-abuse",
   "metadata": {
    "colab": {
     "base_uri": "https://localhost:8080/"
    },
    "id": "tU53zlxh_4y5",
    "outputId": "869ea37b-b8db-431e-a575-68593ced5b9f"
   },
   "outputs": [
    {
     "name": "stdout",
     "output_type": "stream",
     "text": [
      "Losses at iteration 0 - 2021-03-03 14:32:57.790655 {'ner': 1.9628487710156406}\n",
      "Losses at iteration 1 - 2021-03-03 14:32:59.160777 {'ner': 2.0411232527120254e-05}\n",
      "Losses at iteration 2 - 2021-03-03 14:33:00.418255 {'ner': 1.0338885374366733e-07}\n",
      "Losses at iteration 3 - 2021-03-03 14:33:01.729257 {'ner': 6.721449685895385e-08}\n",
      "Losses at iteration 4 - 2021-03-03 14:33:03.025675 {'ner': 4.619639819728946e-08}\n",
      "Losses at iteration 5 - 2021-03-03 14:33:04.340103 {'ner': 3.518272034827332e-08}\n",
      "Losses at iteration 6 - 2021-03-03 14:33:05.696795 {'ner': 2.9528284962392365e-08}\n",
      "Losses at iteration 7 - 2021-03-03 14:33:06.999695 {'ner': 2.09436979530863e-08}\n",
      "Losses at iteration 8 - 2021-03-03 14:33:08.245478 {'ner': 1.5400922231149433e-08}\n",
      "Losses at iteration 9 - 2021-03-03 14:33:09.523215 {'ner': 1.2662813947254402e-08}\n",
      "Losses at iteration 10 - 2021-03-03 14:33:10.768569 {'ner': 1.0069662021064781e-08}\n",
      "Losses at iteration 11 - 2021-03-03 14:33:12.095983 {'ner': 8.259904697281033e-09}\n",
      "Losses at iteration 12 - 2021-03-03 14:33:13.468699 {'ner': 6.686710214456352e-09}\n",
      "Losses at iteration 13 - 2021-03-03 14:33:14.848887 {'ner': 5.4883098810959315e-09}\n",
      "Losses at iteration 14 - 2021-03-03 14:33:16.337389 {'ner': 4.673634129005764e-09}\n",
      "Losses at iteration 15 - 2021-03-03 14:33:17.765741 {'ner': 4.0010738736932065e-09}\n",
      "Losses at iteration 16 - 2021-03-03 14:33:19.239163 {'ner': 3.336048913465494e-09}\n",
      "Losses at iteration 17 - 2021-03-03 14:33:20.767031 {'ner': 2.8927316072133374e-09}\n",
      "Losses at iteration 18 - 2021-03-03 14:33:22.369485 {'ner': 2.439170089216944e-09}\n",
      "Losses at iteration 19 - 2021-03-03 14:33:23.928140 {'ner': 2.146672083275865e-09}\n"
     ]
    }
   ],
   "source": [
    "loss_score = []\n",
    "for i in range(20):\n",
    "  random.shuffle(train)\n",
    "  losses = {}\n",
    "  for text, annotations in train:\n",
    "    nlp1.update([text], [annotations], sgd=optimizer, losses=losses)\n",
    "  loss_score.append(losses['ner'])\n",
    "  print(f'Losses at iteration {i} - {dt.datetime.now()}', losses)"
   ]
  },
  {
   "cell_type": "code",
   "execution_count": 33,
   "id": "swedish-nicholas",
   "metadata": {
    "colab": {
     "base_uri": "https://localhost:8080/",
     "height": 458
    },
    "id": "oHIy2sN46Ji1",
    "outputId": "79ba041e-f6a0-4bf7-e089-0c9c8d89c388"
   },
   "outputs": [
    {
     "data": {
      "image/png": "[encoded data removed]",
      "text/plain": [
       "<Figure size 1008x504 with 1 Axes>"
      ]
     },
     "metadata": {
      "needs_background": "light",
      "tags": []
     },
     "output_type": "display_data"
    }
   ],
   "source": [
    "plt.figure(figsize=(14, 7))\n",
    "plt.plot(loss_score, '-o')\n",
    "plt.xlabel('iteration')\n",
    "plt.title('Losses');\n",
    "plt.savefig('assets/loss_no_batching.png')"
   ]
  },
  {
   "cell_type": "code",
   "execution_count": 19,
   "id": "moved-lounge",
   "metadata": {
    "id": "NQTVGIV0B74P"
   },
   "outputs": [],
   "source": [
    "test_doc = nlp('I would love to play Fed Cup and French Open')"
   ]
  },
  {
   "cell_type": "code",
   "execution_count": 22,
   "id": "continuing-lindsay",
   "metadata": {
    "colab": {
     "base_uri": "https://localhost:8080/",
     "height": 103
    },
    "id": "-tOlPwuGCGjW",
    "outputId": "d410570a-f460-4187-a3ca-b6a3996eddf3"
   },
   "outputs": [
    {
     "data": {
      "text/html": [
       "<span class=\"tex2jax_ignore\"><div class=\"entities\" style=\"line-height: 2.5; direction: ltr\">I would love to play \n",
       "<mark class=\"entity\" style=\"background: #ddd; padding: 0.45em 0.6em; margin: 0 0.25em; line-height: 1; border-radius: 0.35em;\">\n",
       "    Fed Cup\n",
       "    <span style=\"font-size: 0.8em; font-weight: bold; line-height: 1; border-radius: 0.35em; text-transform: uppercase; vertical-align: middle; margin-left: 0.5rem\">网球比赛名称</span>\n",
       "</mark>\n",
       " and \n",
       "<mark class=\"entity\" style=\"background: #ddd; padding: 0.45em 0.6em; margin: 0 0.25em; line-height: 1; border-radius: 0.35em;\">\n",
       "    French Open\n",
       "    <span style=\"font-size: 0.8em; font-weight: bold; line-height: 1; border-radius: 0.35em; text-transform: uppercase; vertical-align: middle; margin-left: 0.5rem\">网球比赛名称</span>\n",
       "</mark>\n",
       "</div></span>"
      ],
      "text/plain": [
       "<IPython.core.display.HTML object>"
      ]
     },
     "metadata": {},
     "output_type": "display_data"
    }
   ],
   "source": [
    "displacy.render(test_doc, style='ent')"
   ]
  },
  {
   "cell_type": "code",
   "execution_count": 40,
   "id": "rising-street",
   "metadata": {
    "id": "tUpNKLf7OPE0"
   },
   "outputs": [],
   "source": [
    "nlp.to_disk('models/nlp_ner1')"
   ]
  },
  {
   "cell_type": "markdown",
   "id": "specialized-joseph",
   "metadata": {},
   "source": [
    "## Train with batching"
   ]
  },
  {
   "cell_type": "code",
   "execution_count": 29,
   "id": "copyrighted-batch",
   "metadata": {
    "id": "yKFYMsrdBDWd"
   },
   "outputs": [],
   "source": [
    "from spacy.util import minibatch, compounding"
   ]
  },
  {
   "cell_type": "code",
   "execution_count": 19,
   "id": "interracial-stretch",
   "metadata": {
    "id": "yp09zNY5_x0C"
   },
   "outputs": [],
   "source": [
    "nlp2 = create_blank_nlp(train_data=train)\n",
    "optimizer = nlp2.begin_training()"
   ]
  },
  {
   "cell_type": "code",
   "execution_count": 30,
   "id": "flexible-array",
   "metadata": {
    "colab": {
     "base_uri": "https://localhost:8080/"
    },
    "id": "-d37g-tIA5k6",
    "outputId": "78b28d3e-7333-44e2-fd07-89ed8bb05f2d"
   },
   "outputs": [
    {
     "name": "stdout",
     "output_type": "stream",
     "text": [
      "Losses at iteration 0 - 2021-03-03 14:36:47.533568 <built-in method values of dict object at 0x7f08460858c0>\n",
      "Losses at iteration 1 - 2021-03-03 14:36:48.068788 <built-in method values of dict object at 0x7f08460858c0>\n",
      "Losses at iteration 2 - 2021-03-03 14:36:48.593615 <built-in method values of dict object at 0x7f08460858c0>\n",
      "Losses at iteration 3 - 2021-03-03 14:36:49.113958 <built-in method values of dict object at 0x7f08460858c0>\n",
      "Losses at iteration 4 - 2021-03-03 14:36:49.599312 <built-in method values of dict object at 0x7f08460858c0>\n",
      "Losses at iteration 5 - 2021-03-03 14:36:50.038214 <built-in method values of dict object at 0x7f08460858c0>\n",
      "Losses at iteration 6 - 2021-03-03 14:36:50.476605 <built-in method values of dict object at 0x7f08460858c0>\n",
      "Losses at iteration 7 - 2021-03-03 14:36:50.909282 <built-in method values of dict object at 0x7f08460858c0>\n",
      "Losses at iteration 8 - 2021-03-03 14:36:51.337024 <built-in method values of dict object at 0x7f08460858c0>\n",
      "Losses at iteration 9 - 2021-03-03 14:36:51.757604 <built-in method values of dict object at 0x7f08460858c0>\n",
      "Losses at iteration 10 - 2021-03-03 14:36:52.199275 <built-in method values of dict object at 0x7f08460858c0>\n",
      "Losses at iteration 11 - 2021-03-03 14:36:52.657048 <built-in method values of dict object at 0x7f08460858c0>\n",
      "Losses at iteration 12 - 2021-03-03 14:36:53.095776 <built-in method values of dict object at 0x7f08460858c0>\n",
      "Losses at iteration 13 - 2021-03-03 14:36:53.513161 <built-in method values of dict object at 0x7f08460858c0>\n",
      "Losses at iteration 14 - 2021-03-03 14:36:53.930219 <built-in method values of dict object at 0x7f08460858c0>\n",
      "Losses at iteration 15 - 2021-03-03 14:36:54.353156 <built-in method values of dict object at 0x7f08460858c0>\n",
      "Losses at iteration 16 - 2021-03-03 14:36:54.769107 <built-in method values of dict object at 0x7f08460858c0>\n",
      "Losses at iteration 17 - 2021-03-03 14:36:55.180478 <built-in method values of dict object at 0x7f08460858c0>\n",
      "Losses at iteration 18 - 2021-03-03 14:36:55.597088 <built-in method values of dict object at 0x7f08460858c0>\n",
      "Losses at iteration 19 - 2021-03-03 14:36:56.008066 <built-in method values of dict object at 0x7f08460858c0>\n"
     ]
    }
   ],
   "source": [
    "loss8 = []\n",
    "for i in range(20):\n",
    "  # losses2 = {}\n",
    "  batches = minibatch(train, size=compounding(4.0, 28.0, 1.001))\n",
    "  for batch in batches:\n",
    "    texts, annotations = zip(*batch)\n",
    "    nlp2.update(\n",
    "        texts,\n",
    "        annotations,\n",
    "        drop=.4,\n",
    "        losses=losses\n",
    "    )\n",
    "  loss8.append(losses['ner'])\n",
    "  print(f'Losses at iteration {i} - {dt.datetime.now()}', losses)"
   ]
  },
  {
   "cell_type": "code",
   "execution_count": 32,
   "id": "broke-bleeding",
   "metadata": {
    "colab": {
     "base_uri": "https://localhost:8080/",
     "height": 458
    },
    "id": "AM7ET7W57CHF",
    "outputId": "d86b13da-167b-487b-86a0-5a89f7515da1"
   },
   "outputs": [
    {
     "data": {
      "image/png": "[encoded data removed]",
      "text/plain": [
       "<Figure size 1008x504 with 1 Axes>"
      ]
     },
     "metadata": {
      "needs_background": "light",
      "tags": []
     },
     "output_type": "display_data"
    }
   ],
   "source": [
    "plt.figure(figsize=(14, 7))\n",
    "plt.plot(loss8)\n",
    "plt.xlabel('iteration')\n",
    "plt.title('Losses with batching');\n",
    "plt.savefig('assets/loss_batching.png')"
   ]
  }
 ],
 "metadata": {
  "kernelspec": {
   "display_name": "Python 3",
   "language": "python",
   "name": "python3"
  },
  "language_info": {
   "codemirror_mode": {
    "name": "ipython",
    "version": 3
   },
   "file_extension": ".py",
   "mimetype": "text/x-python",
   "name": "python",
   "nbconvert_exporter": "python",
   "pygments_lexer": "ipython3",
   "version": "3.8.0"
  }
 },
 "nbformat": 4,
 "nbformat_minor": 5
}
