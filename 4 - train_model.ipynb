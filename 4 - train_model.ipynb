{
 "cells": [
  {
   "cell_type": "code",
   "execution_count": 23,
   "id": "respective-eligibility",
   "metadata": {},
   "outputs": [],
   "source": [
    "import warnings\n",
    "warnings.filterwarnings('ignore')"
   ]
  },
  {
   "cell_type": "code",
   "execution_count": 21,
   "id": "aggressive-bottle",
   "metadata": {},
   "outputs": [],
   "source": [
    "import spacy\n",
    "import pickle\n",
    "import random\n",
    "import datetime as dt\n",
    "import matplotlib.pyplot as plt\n",
    "\n",
    "from spacy import displacy"
   ]
  },
  {
   "cell_type": "markdown",
   "id": "assisted-pursuit",
   "metadata": {},
   "source": [
    "## Load training data"
   ]
  },
  {
   "cell_type": "code",
   "execution_count": 3,
   "id": "attached-recorder",
   "metadata": {},
   "outputs": [],
   "source": [
    "with open('data/train_data', 'rb') as file:\n",
    "    train = pickle.load(file)"
   ]
  },
  {
   "cell_type": "markdown",
   "id": "similar-portrait",
   "metadata": {},
   "source": [
    "## Train model"
   ]
  },
  {
   "cell_type": "code",
   "execution_count": 7,
   "id": "pressing-credit",
   "metadata": {
    "id": "53A28QQ-_Q44"
   },
   "outputs": [],
   "source": [
    "#create an nlp object with only a name entity component\n",
    "def create_blank_nlp(train_data):\n",
    "    nlp = spacy.blank('en')\n",
    "    ner = nlp.create_pipe('ner')\n",
    "    nlp.add_pipe(ner, last=True)\n",
    "    ner = nlp.get_pipe('ner')\n",
    "    for _, annotations in train_data:\n",
    "        for ent in annotations.get('entities'):\n",
    "            ner.add_label(ent[2])\n",
    "    return nlp"
   ]
  },
  {
   "cell_type": "code",
   "execution_count": 24,
   "id": "excited-telescope",
   "metadata": {
    "id": "yp09zNY5_x0C"
   },
   "outputs": [],
   "source": [
    "nlp = create_blank_nlp(train_data=train)\n",
    "optimizer = nlp.begin_training()"
   ]
  },
  {
   "cell_type": "code",
   "execution_count": 9,
   "id": "peripheral-election",
   "metadata": {
    "colab": {
     "base_uri": "https://localhost:8080/"
    },
    "id": "tU53zlxh_4y5",
    "outputId": "b5ea63bd-d62b-4930-a327-5b81c2864a97"
   },
   "outputs": [
    {
     "name": "stdout",
     "output_type": "stream",
     "text": [
      "Losses at iteration 0 - 2021-03-01 13:06:29.781324 {'ner': 180.56242932692763}\n",
      "Losses at iteration 1 - 2021-03-01 13:06:30.399544 {'ner': 2.498950094114409}\n",
      "Losses at iteration 2 - 2021-03-01 13:06:31.016579 {'ner': 0.0002807683921231519}\n",
      "Losses at iteration 3 - 2021-03-01 13:06:31.641767 {'ner': 5.755058568877439e-08}\n",
      "Losses at iteration 4 - 2021-03-01 13:06:32.242944 {'ner': 2.3235067401286177e-08}\n",
      "Losses at iteration 5 - 2021-03-01 13:06:32.858675 {'ner': 1.64902324692881e-08}\n",
      "Losses at iteration 6 - 2021-03-01 13:06:33.470452 {'ner': 9.90752061083629e-09}\n",
      "Losses at iteration 7 - 2021-03-01 13:06:34.086758 {'ner': 6.827778607793282e-09}\n",
      "Losses at iteration 8 - 2021-03-01 13:06:34.680022 {'ner': 5.172390852969771e-09}\n",
      "Losses at iteration 9 - 2021-03-01 13:06:35.281523 {'ner': 3.607698420435793e-09}\n",
      "Losses at iteration 10 - 2021-03-01 13:06:35.915591 {'ner': 2.796313446630754e-09}\n",
      "Losses at iteration 11 - 2021-03-01 13:06:36.529144 {'ner': 2.1872840165158822e-09}\n",
      "Losses at iteration 12 - 2021-03-01 13:06:37.127211 {'ner': 1.7450857702609145e-09}\n",
      "Losses at iteration 13 - 2021-03-01 13:06:37.754691 {'ner': 1.4328049170183446e-09}\n",
      "Losses at iteration 14 - 2021-03-01 13:06:38.378343 {'ner': 1.1711741265320577e-09}\n",
      "Losses at iteration 15 - 2021-03-01 13:06:39.054696 {'ner': 1.0166949491145868e-09}\n",
      "Losses at iteration 16 - 2021-03-01 13:06:39.764665 {'ner': 8.41081353722373e-10}\n",
      "Losses at iteration 17 - 2021-03-01 13:06:40.512173 {'ner': 7.20506195939739e-10}\n",
      "Losses at iteration 18 - 2021-03-01 13:06:41.297419 {'ner': 6.143420524702453e-10}\n",
      "Losses at iteration 19 - 2021-03-01 13:06:42.098722 {'ner': 5.418651792934306e-10}\n"
     ]
    }
   ],
   "source": [
    "loss_score = []\n",
    "for i in range(20):\n",
    "  random.shuffle(train)\n",
    "  losses = {}\n",
    "  for text, annotations in train:\n",
    "    nlp.update([text], [annotations], sgd=optimizer, losses=losses)\n",
    "  loss_score.append(losses['ner'])\n",
    "  print(f'Losses at iteration {i} - {dt.datetime.now()}', losses)"
   ]
  },
  {
   "cell_type": "code",
   "execution_count": 17,
   "id": "square-latex",
   "metadata": {
    "colab": {
     "base_uri": "https://localhost:8080/",
     "height": 293
    },
    "id": "oHIy2sN46Ji1",
    "outputId": "47cf7e00-3dd2-4d02-e720-f801f821deaf"
   },
   "outputs": [
    {
     "data": {
      "image/png": "[encoded data removed]",
      "text/plain": [
       "<Figure size 864x432 with 1 Axes>"
      ]
     },
     "metadata": {
      "needs_background": "light"
     },
     "output_type": "display_data"
    }
   ],
   "source": [
    "plt.figure(figsize=(12, 6))\n",
    "plt.plot(loss_score, '--o')\n",
    "plt.xlabel('iteration');"
   ]
  },
  {
   "cell_type": "markdown",
   "id": "essential-aurora",
   "metadata": {},
   "source": [
    "## With minibatch"
   ]
  },
  {
   "cell_type": "code",
   "execution_count": 32,
   "id": "pediatric-specialist",
   "metadata": {
    "id": "yKFYMsrdBDWd"
   },
   "outputs": [],
   "source": [
    "from spacy.util import minibatch, compounding"
   ]
  },
  {
   "cell_type": "code",
   "execution_count": 33,
   "id": "sensitive-grace",
   "metadata": {
    "colab": {
     "base_uri": "https://localhost:8080/"
    },
    "id": "-d37g-tIA5k6",
    "outputId": "23a5eff8-4f0a-416e-ff15-270f786083f2"
   },
   "outputs": [
    {
     "name": "stdout",
     "output_type": "stream",
     "text": [
      "Losses at iteration 0 - 2021-03-01 12:52:59.441191 <built-in method values of dict object at 0x7fd0f4f74400>\n",
      "Losses at iteration 1 - 2021-03-01 12:52:59.681565 <built-in method values of dict object at 0x7fd0f4f74400>\n",
      "Losses at iteration 2 - 2021-03-01 12:52:59.920178 <built-in method values of dict object at 0x7fd0f4f74400>\n",
      "Losses at iteration 3 - 2021-03-01 12:53:00.173256 <built-in method values of dict object at 0x7fd0f4f74400>\n",
      "Losses at iteration 4 - 2021-03-01 12:53:00.416968 <built-in method values of dict object at 0x7fd0f4f74400>\n",
      "Losses at iteration 5 - 2021-03-01 12:53:00.676066 <built-in method values of dict object at 0x7fd0f4f74400>\n",
      "Losses at iteration 6 - 2021-03-01 12:53:00.918165 <built-in method values of dict object at 0x7fd0f4f74400>\n",
      "Losses at iteration 7 - 2021-03-01 12:53:01.181788 <built-in method values of dict object at 0x7fd0f4f74400>\n"
     ]
    }
   ],
   "source": [
    "loss8 = []\n",
    "for i in range(8):\n",
    "  # losses2 = {}\n",
    "  batches = minibatch(train, size=compounding(4.0, 28.0, 1.001))\n",
    "  for batch in batches:\n",
    "    texts, annotations = zip(*batch)\n",
    "    nlp.update(\n",
    "        texts,\n",
    "        annotations,\n",
    "        drop=.4,\n",
    "        losses=losses\n",
    "    )\n",
    "  loss8.append(losses['ner'])\n",
    "  print(f'Losses at iteration {i} - {dt.datetime.now()}', losses.values)"
   ]
  },
  {
   "cell_type": "code",
   "execution_count": 34,
   "id": "russian-tumor",
   "metadata": {
    "colab": {
     "base_uri": "https://localhost:8080/",
     "height": 282
    },
    "id": "AM7ET7W57CHF",
    "outputId": "19fea269-442f-4738-e0f1-e2e31d62d5c8"
   },
   "outputs": [
    {
     "data": {
      "text/plain": [
       "[<matplotlib.lines.Line2D at 0x7fd0f66abe20>]"
      ]
     },
     "execution_count": 34,
     "metadata": {},
     "output_type": "execute_result"
    },
    {
     "data": {
      "image/png": "[encoded data removed]",
      "text/plain": [
       "<Figure size 432x288 with 1 Axes>"
      ]
     },
     "metadata": {
      "needs_background": "light"
     },
     "output_type": "display_data"
    }
   ],
   "source": [
    "plt.plot(loss8)"
   ]
  },
  {
   "cell_type": "code",
   "execution_count": 25,
   "id": "exempt-uzbekistan",
   "metadata": {
    "colab": {
     "base_uri": "https://localhost:8080/"
    },
    "id": "JhEikMSoBz1f",
    "outputId": "8dc7c05b-1882-4f6b-ce2b-74c8824bde32"
   },
   "outputs": [
    {
     "data": {
      "text/plain": [
       "[('ner', <spacy.pipeline.pipes.EntityRecognizer at 0x7f867374dc40>)]"
      ]
     },
     "execution_count": 25,
     "metadata": {},
     "output_type": "execute_result"
    }
   ],
   "source": [
    "nlp.pipeline"
   ]
  },
  {
   "cell_type": "code",
   "execution_count": 19,
   "id": "alien-glass",
   "metadata": {
    "id": "NQTVGIV0B74P"
   },
   "outputs": [],
   "source": [
    "test_doc = nlp('I would love to play Fed Cup and French Open')"
   ]
  },
  {
   "cell_type": "code",
   "execution_count": 22,
   "id": "related-broadcast",
   "metadata": {
    "colab": {
     "base_uri": "https://localhost:8080/",
     "height": 103
    },
    "id": "-tOlPwuGCGjW",
    "outputId": "d410570a-f460-4187-a3ca-b6a3996eddf3"
   },
   "outputs": [
    {
     "data": {
      "text/html": [
       "<span class=\"tex2jax_ignore\"><div class=\"entities\" style=\"line-height: 2.5; direction: ltr\">I would love to play \n",
       "<mark class=\"entity\" style=\"background: #ddd; padding: 0.45em 0.6em; margin: 0 0.25em; line-height: 1; border-radius: 0.35em;\">\n",
       "    Fed Cup\n",
       "    <span style=\"font-size: 0.8em; font-weight: bold; line-height: 1; border-radius: 0.35em; text-transform: uppercase; vertical-align: middle; margin-left: 0.5rem\">网球比赛名称</span>\n",
       "</mark>\n",
       " and \n",
       "<mark class=\"entity\" style=\"background: #ddd; padding: 0.45em 0.6em; margin: 0 0.25em; line-height: 1; border-radius: 0.35em;\">\n",
       "    French Open\n",
       "    <span style=\"font-size: 0.8em; font-weight: bold; line-height: 1; border-radius: 0.35em; text-transform: uppercase; vertical-align: middle; margin-left: 0.5rem\">网球比赛名称</span>\n",
       "</mark>\n",
       "</div></span>"
      ],
      "text/plain": [
       "<IPython.core.display.HTML object>"
      ]
     },
     "metadata": {},
     "output_type": "display_data"
    }
   ],
   "source": [
    "displacy.render(test_doc, style='ent')"
   ]
  },
  {
   "cell_type": "code",
   "execution_count": 40,
   "id": "secret-encounter",
   "metadata": {
    "id": "tUpNKLf7OPE0"
   },
   "outputs": [],
   "source": [
    "nlp.to_disk('models/nlp_ner1')"
   ]
  }
 ],
 "metadata": {
  "kernelspec": {
   "display_name": "Python 3",
   "language": "python",
   "name": "python3"
  },
  "language_info": {
   "codemirror_mode": {
    "name": "ipython",
    "version": 3
   },
   "file_extension": ".py",
   "mimetype": "text/x-python",
   "name": "python",
   "nbconvert_exporter": "python",
   "pygments_lexer": "ipython3",
   "version": "3.9.1"
  }
 },
 "nbformat": 4,
 "nbformat_minor": 5
}
