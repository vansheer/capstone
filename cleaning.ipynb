{
 "cells": [
  {
   "cell_type": "code",
   "execution_count": 45,
   "id": "arctic-scott",
   "metadata": {},
   "outputs": [],
   "source": [
    "import pandas as pd\n",
    "import docx\n",
    "import os\n",
    "import re"
   ]
  },
  {
   "cell_type": "code",
   "execution_count": 111,
   "id": "tribal-arrangement",
   "metadata": {},
   "outputs": [],
   "source": [
    "def read_docx(filename):\n",
    "    doc = docx.Document(filename)\n",
    "    \n",
    "    sentences = []\n",
    "    \n",
    "    for para in doc.paragraphs[8:]:\n",
    "        if para.text != '':\n",
    "            text = re.sub('Q.\\xa0', '', para.text) #remove the starting 'Q.' for each question\n",
    "            text = re.sub('\\A\\w* \\w*: ', '', text) #remove interviewer name prompt for each answer\n",
    "            text = re.sub(r'\\(\\w*.\\)', '', text) #remove anything in parentheses \n",
    "            text_sent = re.split('[?.]', text) #split sentences from this paragraph\n",
    "            \n",
    "            #append each sentence to a list if the sentence isn't empty\n",
    "            for sent in text_sent:\n",
    "                if sent != '' and sent != ' ':\n",
    "                    sentences.append(sent)\n",
    "    \n",
    "    return sentences"
   ]
  },
  {
   "cell_type": "code",
   "execution_count": 129,
   "id": "noble-fleece",
   "metadata": {
    "collapsed": true,
    "jupyter": {
     "outputs_hidden": true
    },
    "tags": []
   },
   "outputs": [
    {
     "data": {
      "text/plain": [
       "['script20.docx',\n",
       " 'script16.docx',\n",
       " 'script01.docx',\n",
       " 'script17.docx',\n",
       " 'script21.docx',\n",
       " 'script10.docx',\n",
       " 'script06.docx',\n",
       " 'script07.docx',\n",
       " 'script11.docx',\n",
       " 'script04.docx',\n",
       " 'script12.docx',\n",
       " 'script08.docx',\n",
       " 'script24.docx',\n",
       " 'script25.docx',\n",
       " 'script09.docx',\n",
       " 'script13.docx',\n",
       " 'script05.docx',\n",
       " 'script18.docx',\n",
       " 'script22.docx',\n",
       " 'script02.docx',\n",
       " 'script14.docx',\n",
       " 'script15.docx',\n",
       " 'script03.docx',\n",
       " 'script23.docx',\n",
       " 'script19.docx']"
      ]
     },
     "execution_count": 129,
     "metadata": {},
     "output_type": "execute_result"
    }
   ],
   "source": [
    "files = os.listdir('scripts/')\n",
    "files"
   ]
  },
  {
   "cell_type": "code",
   "execution_count": 130,
   "id": "challenging-right",
   "metadata": {
    "tags": []
   },
   "outputs": [],
   "source": [
    "#read all script files and put all sentences in a list\n",
    "all_sents = []\n",
    "for file in files:\n",
    "    this_file = read_docx(f'scripts/{file}')\n",
    "    for sent in this_file:\n",
    "        all_sents.append(sent)"
   ]
  },
  {
   "cell_type": "code",
   "execution_count": 131,
   "id": "covered-layer",
   "metadata": {},
   "outputs": [],
   "source": [
    "#convert the list to a DataFrame\n",
    "df = pd.DataFrame(all_sents, columns=['script'])"
   ]
  },
  {
   "cell_type": "code",
   "execution_count": 136,
   "id": "respective-accordance",
   "metadata": {},
   "outputs": [],
   "source": [
    "df.to_csv('data/all_scripts.csv', index=False)"
   ]
  }
 ],
 "metadata": {
  "kernelspec": {
   "display_name": "Python 3",
   "language": "python",
   "name": "python3"
  },
  "language_info": {
   "codemirror_mode": {
    "name": "ipython",
    "version": 3
   },
   "file_extension": ".py",
   "mimetype": "text/x-python",
   "name": "python",
   "nbconvert_exporter": "python",
   "pygments_lexer": "ipython3",
   "version": "3.8.0"
  }
 },
 "nbformat": 4,
 "nbformat_minor": 5
}
