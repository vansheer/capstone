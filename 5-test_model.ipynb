{
 "cells": [
  {
   "cell_type": "code",
   "execution_count": 21,
   "id": "center-squad",
   "metadata": {},
   "outputs": [],
   "source": [
    "import spacy\n",
    "import docx\n",
    "import re\n",
    "from spacy import displacy"
   ]
  },
  {
   "cell_type": "code",
   "execution_count": 22,
   "id": "olive-balance",
   "metadata": {},
   "outputs": [],
   "source": [
    "nlp = spacy.load('models/nlp_ner1/')"
   ]
  },
  {
   "cell_type": "code",
   "execution_count": 23,
   "id": "handled-peter",
   "metadata": {},
   "outputs": [],
   "source": [
    "def read_docx(filename):\n",
    "    doc = docx.Document(filename)\n",
    "    \n",
    "    paragraphs = []\n",
    "\n",
    "    #append each sentence to a list if the sentence isn't empty\n",
    "    for para in doc.paragraphs[8:]:\n",
    "        if para.text != '' and para.text != ' ':\n",
    "            paragraphs.append(re.sub('\\xa0', ': ', para.text))\n",
    "    \n",
    "    return paragraphs"
   ]
  },
  {
   "cell_type": "code",
   "execution_count": 78,
   "id": "sound-reward",
   "metadata": {},
   "outputs": [],
   "source": [
    "paras = read_docx('scripts/script13.docx')"
   ]
  },
  {
   "cell_type": "code",
   "execution_count": 79,
   "id": "tested-rating",
   "metadata": {},
   "outputs": [],
   "source": [
    "doc = nlp(paras[0])"
   ]
  },
  {
   "cell_type": "code",
   "execution_count": 80,
   "id": "latest-ultimate",
   "metadata": {},
   "outputs": [
    {
     "data": {
      "text/plain": [
       "0"
      ]
     },
     "execution_count": 80,
     "metadata": {},
     "output_type": "execute_result"
    }
   ],
   "source": [
    "len(doc.ents)"
   ]
  },
  {
   "cell_type": "code",
   "execution_count": 81,
   "id": "speaking-butter",
   "metadata": {},
   "outputs": [
    {
     "data": {
      "text/html": [
       "<span class=\"tex2jax_ignore\"><div class=\"entities\" style=\"line-height: 2.5; direction: ltr\">Q.: So you've got Bara in your group and you said in the draw ceremony it was funny because you're both \n",
       "<mark class=\"entity\" style=\"background: #ddd; padding: 0.45em 0.6em; margin: 0 0.25em; line-height: 1; border-radius: 0.35em;\">\n",
       "    Fed Cup\n",
       "    <span style=\"font-size: 0.8em; font-weight: bold; line-height: 1; border-radius: 0.35em; text-transform: uppercase; vertical-align: middle; margin-left: 0.5rem\">网球比赛名称</span>\n",
       "</mark>\n",
       " teammates. A lot of people asked about what it's like to play a friend. Perhaps a different thing to play a teammate. You're playing tennis and practicing so closely together. What do you make of that experience and what you'll bring into the next match?</div></span>"
      ],
      "text/plain": [
       "<IPython.core.display.HTML object>"
      ]
     },
     "metadata": {},
     "output_type": "display_data"
    },
    {
     "data": {
      "text/html": [
       "<span class=\"tex2jax_ignore\"><div class=\"entities\" style=\"line-height: 2.5; direction: ltr\">Q.: You played so well the last few months. I know everyone is looking forward to the off-season, but is there a little bit of disappointment that after this week or \n",
       "<mark class=\"entity\" style=\"background: #ddd; padding: 0.45em 0.6em; margin: 0 0.25em; line-height: 1; border-radius: 0.35em;\">\n",
       "    Fed Cup\n",
       "    <span style=\"font-size: 0.8em; font-weight: bold; line-height: 1; border-radius: 0.35em; text-transform: uppercase; vertical-align: middle; margin-left: 0.5rem\">网球比赛名称</span>\n",
       "</mark>\n",
       " you have to stop?</div></span>"
      ],
      "text/plain": [
       "<IPython.core.display.HTML object>"
      ]
     },
     "metadata": {},
     "output_type": "display_data"
    },
    {
     "data": {
      "text/html": [
       "<span class=\"tex2jax_ignore\"><div class=\"entities\" style=\"line-height: 2.5; direction: ltr\">I'm really glad that I made it to play here and still have a chance to have more matches. Still we have \n",
       "<mark class=\"entity\" style=\"background: #ddd; padding: 0.45em 0.6em; margin: 0 0.25em; line-height: 1; border-radius: 0.35em;\">\n",
       "    Fed Cup\n",
       "    <span style=\"font-size: 0.8em; font-weight: bold; line-height: 1; border-radius: 0.35em; text-transform: uppercase; vertical-align: middle; margin-left: 0.5rem\">网球比赛名称</span>\n",
       "</mark>\n",
       " next week, so that's good to play few matches here coming to \n",
       "<mark class=\"entity\" style=\"background: #ddd; padding: 0.45em 0.6em; margin: 0 0.25em; line-height: 1; border-radius: 0.35em;\">\n",
       "    Fed Cup\n",
       "    <span style=\"font-size: 0.8em; font-weight: bold; line-height: 1; border-radius: 0.35em; text-transform: uppercase; vertical-align: middle; margin-left: 0.5rem\">网球比赛名称</span>\n",
       "</mark>\n",
       ".</div></span>"
      ],
      "text/plain": [
       "<IPython.core.display.HTML object>"
      ]
     },
     "metadata": {},
     "output_type": "display_data"
    }
   ],
   "source": [
    "for para in paras:\n",
    "    doc = nlp(para)\n",
    "    if len(doc.ents) > 0:\n",
    "        displacy.render(doc, style='ent')"
   ]
  },
  {
   "cell_type": "code",
   "execution_count": 27,
   "id": "spanish-central",
   "metadata": {},
   "outputs": [
    {
     "data": {
      "text/plain": [
       "[('ner', <spacy.pipeline.pipes.EntityRecognizer at 0x7fd5919b46a0>)]"
      ]
     },
     "execution_count": 27,
     "metadata": {},
     "output_type": "execute_result"
    }
   ],
   "source": [
    "nlp.pipeline"
   ]
  }
 ],
 "metadata": {
  "kernelspec": {
   "display_name": "Python 3",
   "language": "python",
   "name": "python3"
  },
  "language_info": {
   "codemirror_mode": {
    "name": "ipython",
    "version": 3
   },
   "file_extension": ".py",
   "mimetype": "text/x-python",
   "name": "python",
   "nbconvert_exporter": "python",
   "pygments_lexer": "ipython3",
   "version": "3.8.0"
  }
 },
 "nbformat": 4,
 "nbformat_minor": 5
}
