{
 "cells": [
  {
   "cell_type": "code",
   "execution_count": 1,
   "id": "clear-henry",
   "metadata": {},
   "outputs": [],
   "source": [
    "import spacy\n",
    "import pandas as pd\n",
    "import docx\n",
    "\n",
    "from spacy import displacy\n",
    "from spacy.matcher import Matcher\n",
    "from spacy.tokens import Span\n",
    "from google.cloud import translate_v2\n",
    "from IPython.display import HTML as html_print"
   ]
  },
  {
   "cell_type": "code",
   "execution_count": 2,
   "id": "short-light",
   "metadata": {},
   "outputs": [],
   "source": [
    "#instantiate nlp\n",
    "nlp = spacy.load('en_core_web_sm')"
   ]
  },
  {
   "cell_type": "code",
   "execution_count": 3,
   "id": "normal-photographer",
   "metadata": {
    "tags": []
   },
   "outputs": [
    {
     "name": "stdout",
     "output_type": "stream",
     "text": [
      "Grand PROPN NNP compound Xxxxx True False\n",
      "Slams PROPN NNP ROOT Xxxxx True False\n",
      ", PUNCT , punct , False False\n",
      "John PROPN NNP compound Xxxx True False\n",
      "Roland PROPN NNP appos Xxxxx True False\n"
     ]
    }
   ],
   "source": [
    "#实验\n",
    "test = 'Grand Slams, John Roland'\n",
    "\n",
    "test_doc = nlp(test)\n",
    "\n",
    "for token in test_doc:\n",
    "    print(token.text, token.pos_, token.tag_, token.dep_, token.shape_, token.is_alpha, token.is_stop)"
   ]
  },
  {
   "cell_type": "code",
   "execution_count": 4,
   "id": "moving-verse",
   "metadata": {},
   "outputs": [
    {
     "data": {
      "text/plain": [
       "'appositional modifier'"
      ]
     },
     "execution_count": 4,
     "metadata": {},
     "output_type": "execute_result"
    }
   ],
   "source": [
    "spacy.explain('appos')"
   ]
  },
  {
   "cell_type": "code",
   "execution_count": null,
   "id": "hourly-pencil",
   "metadata": {},
   "outputs": [],
   "source": []
  },
  {
   "cell_type": "code",
   "execution_count": 6,
   "id": "increased-state",
   "metadata": {},
   "outputs": [],
   "source": [
    "def read_docx(filename):\n",
    "    doc = docx.Document(filename)\n",
    "    \n",
    "    sentences = []\n",
    "    \n",
    "    for para in doc.paragraphs:\n",
    "        if para.text != '':\n",
    "            sentences.append(para.text.replace('\\xa0', ''))\n",
    "    \n",
    "    return sentences"
   ]
  },
  {
   "cell_type": "code",
   "execution_count": 7,
   "id": "turkish-liechtenstein",
   "metadata": {
    "tags": []
   },
   "outputs": [],
   "source": [
    "sent_list = read_docx('scripts/script02.docx')"
   ]
  },
  {
   "cell_type": "code",
   "execution_count": 8,
   "id": "conditional-ranch",
   "metadata": {},
   "outputs": [],
   "source": [
    "#build patterns\n",
    "match_pattern = [{'LEMMA': 'match', 'POS': {'IN': ['NOUN']}}]\n",
    "agressive_pattern = [{'LEMMA': 'aggressive'}]\n",
    "proper_name_pattern = [{'IS_TITLE': True, 'POS': 'PROPN'}, {'IS_TITLE': True}] #需要跟其它两个大写词组合区分\n",
    "fedcup_pattern = [{'LOWER': 'fed'}, {'LOWER': 'cup'}]\n",
    "grandslam_pattern = [{'LOWER': 'grand'}, {'LOWER': {'IN': ['slam', 'slams']}}]\n",
    "rally_pattern = [{'LEMMA': 'rally'}]\n",
    "doublefault_pattern = [{'LOWER': 'double'}, {'LOWER': 'faults'}]"
   ]
  },
  {
   "cell_type": "code",
   "execution_count": 9,
   "id": "burning-guyana",
   "metadata": {},
   "outputs": [],
   "source": [
    "#instantiate a matcher\n",
    "matcher = Matcher(nlp.vocab, validate=True)"
   ]
  },
  {
   "cell_type": "code",
   "execution_count": 10,
   "id": "plain-trailer",
   "metadata": {},
   "outputs": [],
   "source": [
    "#add the matche patterns\n",
    "matcher.add('比赛', [match_pattern])\n",
    "matcher.add('打得很凶', [agressive_pattern])\n",
    "matcher.add('球员名字', [proper_name_pattern])\n",
    "matcher.add('联合会杯', [fedcup_pattern])\n",
    "matcher.add('大满贯比赛', [grandslam_pattern])\n",
    "matcher.add('回合', [rally_pattern])\n",
    "matcher.add('双误', [doublefault_pattern])"
   ]
  },
  {
   "cell_type": "code",
   "execution_count": 30,
   "id": "unlimited-freedom",
   "metadata": {
    "tags": []
   },
   "outputs": [
    {
     "data": {
      "text/html": [
       "<span class=\"tex2jax_ignore\"><div class=\"entities\" style=\"line-height: 2.5; direction: ltr\">\n",
       "<mark class=\"entity\" style=\"background: #ddd; padding: 0.45em 0.6em; margin: 0 0.25em; line-height: 1; border-radius: 0.35em;\">\n",
       "    Petra Kvitova\n",
       "    <span style=\"font-size: 0.8em; font-weight: bold; line-height: 1; border-radius: 0.35em; vertical-align: middle; margin-left: 0.5rem\">球员名字</span>\n",
       "</mark>\n",
       "</div></span>"
      ],
      "text/plain": [
       "<IPython.core.display.HTML object>"
      ]
     },
     "metadata": {},
     "output_type": "display_data"
    },
    {
     "data": {
      "text/html": [
       "<span class=\"tex2jax_ignore\"><div class=\"entities\" style=\"line-height: 2.5; direction: ltr\">\n",
       "<mark class=\"entity\" style=\"background: #ddd; padding: 0.45em 0.6em; margin: 0 0.25em; line-height: 1; border-radius: 0.35em;\">\n",
       "    Press Conference\n",
       "    <span style=\"font-size: 0.8em; font-weight: bold; line-height: 1; border-radius: 0.35em; vertical-align: middle; margin-left: 0.5rem\">球员名字</span>\n",
       "</mark>\n",
       "</div></span>"
      ],
      "text/plain": [
       "<IPython.core.display.HTML object>"
      ]
     },
     "metadata": {},
     "output_type": "display_data"
    },
    {
     "data": {
      "text/html": [
       "<span class=\"tex2jax_ignore\"><div class=\"entities\" style=\"line-height: 2.5; direction: ltr\">P. KVITOVA/\n",
       "<mark class=\"entity\" style=\"background: #ddd; padding: 0.45em 0.6em; margin: 0 0.25em; line-height: 1; border-radius: 0.35em;\">\n",
       "    E. Svitolina\n",
       "    <span style=\"font-size: 0.8em; font-weight: bold; line-height: 1; border-radius: 0.35em; vertical-align: middle; margin-left: 0.5rem\">球员名字</span>\n",
       "</mark>\n",
       "</div></span>"
      ],
      "text/plain": [
       "<IPython.core.display.HTML object>"
      ]
     },
     "metadata": {},
     "output_type": "display_data"
    },
    {
     "data": {
      "text/html": [
       "<span class=\"tex2jax_ignore\"><div class=\"entities\" style=\"line-height: 2.5; direction: ltr\">So I knew that it's still in my hand. I just felt that she played a little bit aggressively than me in the beginning of the \n",
       "<mark class=\"entity\" style=\"background: #ddd; padding: 0.45em 0.6em; margin: 0 0.25em; line-height: 1; border-radius: 0.35em;\">\n",
       "    match\n",
       "    <span style=\"font-size: 0.8em; font-weight: bold; line-height: 1; border-radius: 0.35em; vertical-align: middle; margin-left: 0.5rem\">比赛</span>\n",
       "</mark>\n",
       ". So I was a little bit trying to get the rhythm to play a little bit more \n",
       "<mark class=\"entity\" style=\"background: #ddd; padding: 0.45em 0.6em; margin: 0 0.25em; line-height: 1; border-radius: 0.35em;\">\n",
       "    aggressive\n",
       "    <span style=\"font-size: 0.8em; font-weight: bold; line-height: 1; border-radius: 0.35em; vertical-align: middle; margin-left: 0.5rem\">打得很凶</span>\n",
       "</mark>\n",
       ", maybe a little bit longer \n",
       "<mark class=\"entity\" style=\"background: #ddd; padding: 0.45em 0.6em; margin: 0 0.25em; line-height: 1; border-radius: 0.35em;\">\n",
       "    rallies\n",
       "    <span style=\"font-size: 0.8em; font-weight: bold; line-height: 1; border-radius: 0.35em; vertical-align: middle; margin-left: 0.5rem\">回合</span>\n",
       "</mark>\n",
       ", that I can go to the game and be able to play.</div></span>"
      ],
      "text/plain": [
       "<IPython.core.display.HTML object>"
      ]
     },
     "metadata": {},
     "output_type": "display_data"
    },
    {
     "data": {
      "text/html": [
       "<span class=\"tex2jax_ignore\"><div class=\"entities\" style=\"line-height: 2.5; direction: ltr\">That I think I did. I started to serve a little bit better as well, even I had more \n",
       "<mark class=\"entity\" style=\"background: #ddd; padding: 0.45em 0.6em; margin: 0 0.25em; line-height: 1; border-radius: 0.35em;\">\n",
       "    double faults\n",
       "    <span style=\"font-size: 0.8em; font-weight: bold; line-height: 1; border-radius: 0.35em; vertical-align: middle; margin-left: 0.5rem\">双误</span>\n",
       "</mark>\n",
       " that I wish. But I still think that I find a way to kind of beat her. I played her in Wuhan and I was break down there as well from the beginning of the \n",
       "<mark class=\"entity\" style=\"background: #ddd; padding: 0.45em 0.6em; margin: 0 0.25em; line-height: 1; border-radius: 0.35em;\">\n",
       "    match\n",
       "    <span style=\"font-size: 0.8em; font-weight: bold; line-height: 1; border-radius: 0.35em; vertical-align: middle; margin-left: 0.5rem\">比赛</span>\n",
       "</mark>\n",
       ".</div></span>"
      ],
      "text/plain": [
       "<IPython.core.display.HTML object>"
      ]
     },
     "metadata": {},
     "output_type": "display_data"
    },
    {
     "data": {
      "text/html": [
       "<span class=\"tex2jax_ignore\"><div class=\"entities\" style=\"line-height: 2.5; direction: ltr\">I just probably knew that it's still not the end, so I was just trying to play point by point. That was kind of the style of the \n",
       "<mark class=\"entity\" style=\"background: #ddd; padding: 0.45em 0.6em; margin: 0 0.25em; line-height: 1; border-radius: 0.35em;\">\n",
       "    match\n",
       "    <span style=\"font-size: 0.8em; font-weight: bold; line-height: 1; border-radius: 0.35em; vertical-align: middle; margin-left: 0.5rem\">比赛</span>\n",
       "</mark>\n",
       ".</div></span>"
      ],
      "text/plain": [
       "<IPython.core.display.HTML object>"
      ]
     },
     "metadata": {},
     "output_type": "display_data"
    },
    {
     "data": {
      "text/html": [
       "<span class=\"tex2jax_ignore\"><div class=\"entities\" style=\"line-height: 2.5; direction: ltr\">I think that was kind of the point when I started to play better. I played good in \n",
       "<mark class=\"entity\" style=\"background: #ddd; padding: 0.45em 0.6em; margin: 0 0.25em; line-height: 1; border-radius: 0.35em;\">\n",
       "    New Haven\n",
       "    <span style=\"font-size: 0.8em; font-weight: bold; line-height: 1; border-radius: 0.35em; vertical-align: middle; margin-left: 0.5rem\">球员名字</span>\n",
       "</mark>\n",
       " and US Open, and then I came to Asia and I really enjoy myself on the court as well.</div></span>"
      ],
      "text/plain": [
       "<IPython.core.display.HTML object>"
      ]
     },
     "metadata": {},
     "output_type": "display_data"
    },
    {
     "data": {
      "text/html": [
       "<span class=\"tex2jax_ignore\"><div class=\"entities\" style=\"line-height: 2.5; direction: ltr\">Q.You said your congratulations to \n",
       "<mark class=\"entity\" style=\"background: #ddd; padding: 0.45em 0.6em; margin: 0 0.25em; line-height: 1; border-radius: 0.35em;\">\n",
       "    Andy Murray\n",
       "    <span style=\"font-size: 0.8em; font-weight: bold; line-height: 1; border-radius: 0.35em; vertical-align: middle; margin-left: 0.5rem\">球员名字</span>\n",
       "</mark>\n",
       " on your Twitter from world No. 2 to No. 1. It cost him seven years. You were a world No. 2 players yourself five years ago. Is achieving world No. 1 still a big goal for you or you're pretty relaxed about it?</div></span>"
      ],
      "text/plain": [
       "<IPython.core.display.HTML object>"
      ]
     },
     "metadata": {},
     "output_type": "display_data"
    },
    {
     "ename": "ValueError",
     "evalue": "[E1010] Unable to set entity information for token 39 which is included in more than one span in entities, blocked, missing or outside.",
     "output_type": "error",
     "traceback": [
      "\u001b[0;31m---------------------------------------------------------------------------\u001b[0m",
      "\u001b[0;31mValueError\u001b[0m                                Traceback (most recent call last)",
      "\u001b[0;32m<ipython-input-30-912c34361185>\u001b[0m in \u001b[0;36m<module>\u001b[0;34m\u001b[0m\n\u001b[1;32m      5\u001b[0m     \u001b[0;32mif\u001b[0m \u001b[0mmatcher\u001b[0m\u001b[0;34m(\u001b[0m\u001b[0mdoc\u001b[0m\u001b[0;34m)\u001b[0m\u001b[0;34m:\u001b[0m\u001b[0;34m\u001b[0m\u001b[0;34m\u001b[0m\u001b[0m\n\u001b[1;32m      6\u001b[0m         \u001b[0mspan\u001b[0m \u001b[0;34m=\u001b[0m \u001b[0;34m[\u001b[0m\u001b[0mSpan\u001b[0m\u001b[0;34m(\u001b[0m\u001b[0mdoc\u001b[0m\u001b[0;34m,\u001b[0m \u001b[0mstart\u001b[0m\u001b[0;34m,\u001b[0m \u001b[0mend\u001b[0m\u001b[0;34m,\u001b[0m \u001b[0mlabel\u001b[0m\u001b[0;34m=\u001b[0m\u001b[0mmatch_id\u001b[0m\u001b[0;34m)\u001b[0m \u001b[0;32mfor\u001b[0m \u001b[0mmatch_id\u001b[0m\u001b[0;34m,\u001b[0m \u001b[0mstart\u001b[0m\u001b[0;34m,\u001b[0m \u001b[0mend\u001b[0m \u001b[0;32min\u001b[0m \u001b[0mmatcher\u001b[0m\u001b[0;34m(\u001b[0m\u001b[0mdoc\u001b[0m\u001b[0;34m)\u001b[0m\u001b[0;34m]\u001b[0m\u001b[0;34m\u001b[0m\u001b[0;34m\u001b[0m\u001b[0m\n\u001b[0;32m----> 7\u001b[0;31m         \u001b[0mdoc\u001b[0m\u001b[0;34m.\u001b[0m\u001b[0ments\u001b[0m \u001b[0;34m=\u001b[0m \u001b[0mspan\u001b[0m\u001b[0;34m\u001b[0m\u001b[0;34m\u001b[0m\u001b[0m\n\u001b[0m\u001b[1;32m      8\u001b[0m     \u001b[0;31m#         doc.ents = list(doc.ents) + [span]\u001b[0m\u001b[0;34m\u001b[0m\u001b[0;34m\u001b[0m\u001b[0;34m\u001b[0m\u001b[0m\n\u001b[1;32m      9\u001b[0m         \u001b[0;31m#print([(ent.text, ent.label_) for ent in doc.ents])\u001b[0m\u001b[0;34m\u001b[0m\u001b[0;34m\u001b[0m\u001b[0;34m\u001b[0m\u001b[0m\n",
      "\u001b[0;32m/Library/Frameworks/Python.framework/Versions/3.8/lib/python3.8/site-packages/spacy/tokens/doc.pyx\u001b[0m in \u001b[0;36mspacy.tokens.doc.Doc.ents.__set__\u001b[0;34m()\u001b[0m\n",
      "\u001b[0;32m/Library/Frameworks/Python.framework/Versions/3.8/lib/python3.8/site-packages/spacy/tokens/doc.pyx\u001b[0m in \u001b[0;36mspacy.tokens.doc.Doc.set_ents\u001b[0;34m()\u001b[0m\n",
      "\u001b[0;31mValueError\u001b[0m: [E1010] Unable to set entity information for token 39 which is included in more than one span in entities, blocked, missing or outside."
     ]
    }
   ],
   "source": [
    "#有match的\n",
    "#code credit: https://stackoverflow.com/questions/51037383/how-do-i-add-matches-as-entities-and-visualize-it-in-spacy\n",
    "for sent in sent_list:\n",
    "    doc = nlp(sent)\n",
    "    if matcher(doc):\n",
    "        span = [Span(doc, start, end, label=match_id) for match_id, start, end in matcher(doc)]\n",
    "        doc.ents = span\n",
    "    #         doc.ents = list(doc.ents) + [span]\n",
    "        #print([(ent.text, ent.label_) for ent in doc.ents])\n",
    "        displacy.render(doc, style='ent')"
   ]
  },
  {
   "cell_type": "code",
   "execution_count": null,
   "id": "alpha-birth",
   "metadata": {},
   "outputs": [],
   "source": []
  },
  {
   "cell_type": "code",
   "execution_count": null,
   "id": "textile-washer",
   "metadata": {},
   "outputs": [],
   "source": []
  },
  {
   "cell_type": "code",
   "execution_count": null,
   "id": "pretty-russia",
   "metadata": {},
   "outputs": [],
   "source": []
  },
  {
   "cell_type": "code",
   "execution_count": 13,
   "id": "italic-organic",
   "metadata": {},
   "outputs": [],
   "source": [
    "#实验二\n",
    "test = \"\"\"\n",
    "So I was a little bit trying to get the rhythm to play a little bit more aggressive, \n",
    "maybe a little bit longer rallies, that I can go to the game and be able to play.\n",
    "\"\"\"\n",
    "test_doc = nlp(test)\n",
    "matches = matcher(test_doc)"
   ]
  },
  {
   "cell_type": "code",
   "execution_count": 27,
   "id": "improving-climate",
   "metadata": {},
   "outputs": [],
   "source": [
    "span = [Span(test_doc, start, end, label=match_id) for match_id, start, end in matches]"
   ]
  },
  {
   "cell_type": "code",
   "execution_count": 28,
   "id": "legal-monte",
   "metadata": {},
   "outputs": [],
   "source": [
    "test_doc.ents = span"
   ]
  },
  {
   "cell_type": "code",
   "execution_count": 29,
   "id": "narrow-reverse",
   "metadata": {},
   "outputs": [
    {
     "data": {
      "text/html": [
       "<span class=\"tex2jax_ignore\"><div class=\"entities\" style=\"line-height: 2.5; direction: ltr\"></br>So I was a little bit trying to get the rhythm to play a little bit more \n",
       "<mark class=\"entity\" style=\"background: #ddd; padding: 0.45em 0.6em; margin: 0 0.25em; line-height: 1; border-radius: 0.35em;\">\n",
       "    aggressive\n",
       "    <span style=\"font-size: 0.8em; font-weight: bold; line-height: 1; border-radius: 0.35em; vertical-align: middle; margin-left: 0.5rem\">打得很凶</span>\n",
       "</mark>\n",
       ", </br>maybe a little bit longer \n",
       "<mark class=\"entity\" style=\"background: #ddd; padding: 0.45em 0.6em; margin: 0 0.25em; line-height: 1; border-radius: 0.35em;\">\n",
       "    rallies\n",
       "    <span style=\"font-size: 0.8em; font-weight: bold; line-height: 1; border-radius: 0.35em; vertical-align: middle; margin-left: 0.5rem\">回合</span>\n",
       "</mark>\n",
       ", that I can go to the game and be able to play.</br></div></span>"
      ],
      "text/plain": [
       "<IPython.core.display.HTML object>"
      ]
     },
     "metadata": {},
     "output_type": "display_data"
    }
   ],
   "source": [
    "displacy.render(test_doc, style='ent')"
   ]
  },
  {
   "cell_type": "code",
   "execution_count": null,
   "id": "studied-dylan",
   "metadata": {},
   "outputs": [],
   "source": []
  },
  {
   "cell_type": "code",
   "execution_count": null,
   "id": "breathing-owner",
   "metadata": {},
   "outputs": [],
   "source": []
  },
  {
   "cell_type": "code",
   "execution_count": null,
   "id": "warming-collar",
   "metadata": {},
   "outputs": [],
   "source": []
  },
  {
   "cell_type": "code",
   "execution_count": null,
   "id": "further-forge",
   "metadata": {},
   "outputs": [],
   "source": []
  },
  {
   "cell_type": "code",
   "execution_count": null,
   "id": "raising-floor",
   "metadata": {},
   "outputs": [],
   "source": []
  },
  {
   "cell_type": "code",
   "execution_count": null,
   "id": "gorgeous-department",
   "metadata": {},
   "outputs": [],
   "source": []
  },
  {
   "cell_type": "code",
   "execution_count": null,
   "id": "unlimited-convert",
   "metadata": {},
   "outputs": [],
   "source": []
  },
  {
   "cell_type": "code",
   "execution_count": null,
   "id": "quiet-solution",
   "metadata": {},
   "outputs": [],
   "source": []
  },
  {
   "cell_type": "code",
   "execution_count": null,
   "id": "civil-railway",
   "metadata": {},
   "outputs": [],
   "source": []
  },
  {
   "cell_type": "code",
   "execution_count": null,
   "id": "nuclear-prize",
   "metadata": {},
   "outputs": [],
   "source": []
  },
  {
   "cell_type": "code",
   "execution_count": null,
   "id": "working-excellence",
   "metadata": {},
   "outputs": [],
   "source": []
  },
  {
   "cell_type": "code",
   "execution_count": null,
   "id": "alpha-actress",
   "metadata": {},
   "outputs": [],
   "source": []
  },
  {
   "cell_type": "code",
   "execution_count": null,
   "id": "strange-silence",
   "metadata": {},
   "outputs": [],
   "source": []
  },
  {
   "cell_type": "code",
   "execution_count": null,
   "id": "subtle-viking",
   "metadata": {},
   "outputs": [],
   "source": []
  },
  {
   "cell_type": "code",
   "execution_count": null,
   "id": "comparable-variety",
   "metadata": {},
   "outputs": [],
   "source": []
  },
  {
   "cell_type": "code",
   "execution_count": null,
   "id": "copyrighted-index",
   "metadata": {},
   "outputs": [],
   "source": []
  },
  {
   "cell_type": "code",
   "execution_count": null,
   "id": "exciting-laugh",
   "metadata": {},
   "outputs": [],
   "source": [
    "from spacy.tokens.span_group import SpanGroup"
   ]
  },
  {
   "cell_type": "code",
   "execution_count": null,
   "id": "assumed-groove",
   "metadata": {},
   "outputs": [],
   "source": [
    "sg = SpanGroup(all_doc)"
   ]
  },
  {
   "cell_type": "code",
   "execution_count": null,
   "id": "cloudy-columbus",
   "metadata": {},
   "outputs": [],
   "source": [
    "type(sg)"
   ]
  },
  {
   "cell_type": "code",
   "execution_count": null,
   "id": "subjective-hobby",
   "metadata": {},
   "outputs": [],
   "source": [
    "sg."
   ]
  },
  {
   "cell_type": "code",
   "execution_count": null,
   "id": "final-experience",
   "metadata": {
    "tags": []
   },
   "outputs": [],
   "source": [
    "for sent in sent_list:\n",
    "    doc = nlp(sent)\n",
    "    if matcher(doc):\n",
    "        for match_id, start, end in matcher(doc):\n",
    "            span = Span(doc, start, end, label=match_id)\n",
    "            doc.ents = [span]\n",
    "        displacy.render(doc, style='ent')"
   ]
  },
  {
   "cell_type": "code",
   "execution_count": null,
   "id": "editorial-spine",
   "metadata": {
    "jupyter": {
     "source_hidden": true
    },
    "tags": []
   },
   "outputs": [],
   "source": [
    "all_para = ' '.join(read_docx('scripts/script02.docx'))"
   ]
  },
  {
   "cell_type": "code",
   "execution_count": null,
   "id": "generous-facility",
   "metadata": {
    "tags": []
   },
   "outputs": [],
   "source": [
    "all_doc = nlp(all_para)"
   ]
  },
  {
   "cell_type": "code",
   "execution_count": null,
   "id": "typical-punishment",
   "metadata": {
    "tags": []
   },
   "outputs": [],
   "source": [
    "for match in matcher(all_doc):\n",
    "    span = Span(doc, start, end, label=match_id)\n",
    "    sg.append(span)\n",
    "#     for match_id, start, end in match:\n",
    "#         span = Span(doc, start, end, label=match_id)\n",
    "#         print(span)\n",
    "\n",
    "# all_match = matcher(all_doc)"
   ]
  },
  {
   "cell_type": "code",
   "execution_count": null,
   "id": "female-manner",
   "metadata": {},
   "outputs": [],
   "source": []
  },
  {
   "cell_type": "code",
   "execution_count": null,
   "id": "textile-scoop",
   "metadata": {
    "tags": []
   },
   "outputs": [],
   "source": [
    "#没有match\n",
    "for sent in sent_list:\n",
    "    if not matcher(nlp(sent)):\n",
    "        print(sent)"
   ]
  },
  {
   "cell_type": "code",
   "execution_count": null,
   "id": "studied-cookbook",
   "metadata": {},
   "outputs": [],
   "source": []
  }
 ],
 "metadata": {
  "kernelspec": {
   "display_name": "Python 3",
   "language": "python",
   "name": "python3"
  },
  "language_info": {
   "codemirror_mode": {
    "name": "ipython",
    "version": 3
   },
   "file_extension": ".py",
   "mimetype": "text/x-python",
   "name": "python",
   "nbconvert_exporter": "python",
   "pygments_lexer": "ipython3",
   "version": "3.8.0"
  }
 },
 "nbformat": 4,
 "nbformat_minor": 5
}
